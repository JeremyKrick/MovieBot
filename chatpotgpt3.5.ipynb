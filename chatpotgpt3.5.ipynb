{
 "cells": [
  {
   "cell_type": "code",
   "execution_count": 1,
   "metadata": {},
   "outputs": [],
   "source": [
    "from transformers import BertTokenizer, BertForSequenceClassification\n",
    "import torch\n",
    "import pandas as pd\n",
    "import matplotlib.pyplot as plt\n",
    "import numpy as np"
   ]
  },
  {
   "cell_type": "code",
   "execution_count": 21,
   "metadata": {},
   "outputs": [],
   "source": [
    "# Define the path to the movie_lines.txt file\n",
    "file_path = 'movie_lines.txt'\n",
    "# Initialize empty lists to store the data\n",
    "lineID = []\n",
    "characterID = []\n",
    "movieID = []\n",
    "character_name = []\n",
    "text_of_utterance = []\n",
    "# Read first line in the file\n",
    "with open(file_path, 'r', encoding='utf-8', errors='ignore') as f:\n",
    "    for line in f:\n",
    "        # Split each line using ' +++$+++ ' as the delimiter\n",
    "        line = line.split(' +++$+++ ')\n",
    "        # Extract the fields\n",
    "        lineID.append(line[0])\n",
    "        characterID.append(line[1])\n",
    "        movieID.append(line[2])\n",
    "        character_name.append(line[3])\n",
    "        text_of_utterance.append(line[4])\n",
    "    f.close()\n",
    "        # Print the result\n",
    "        #print('Line ID: {}\\nCharacter ID: {}\\nMovie ID: {}\\nCharacter Name: {}\\nText of Utterance: {}\\n'.format(line[0], line[1], line[2], line[3], line[4]))\n",
    "\n",
    "# Create a dataframe from the lists\n",
    "df = pd.DataFrame({'Line ID': lineID, 'Character ID': characterID, 'Movie ID': movieID, 'Character Name': character_name, 'Text of Utterance': text_of_utterance})\n"
   ]
  },
  {
   "cell_type": "code",
   "execution_count": 3,
   "metadata": {},
   "outputs": [
    {
     "data": {
      "text/html": [
       "<div>\n",
       "<style scoped>\n",
       "    .dataframe tbody tr th:only-of-type {\n",
       "        vertical-align: middle;\n",
       "    }\n",
       "\n",
       "    .dataframe tbody tr th {\n",
       "        vertical-align: top;\n",
       "    }\n",
       "\n",
       "    .dataframe thead th {\n",
       "        text-align: right;\n",
       "    }\n",
       "</style>\n",
       "<table border=\"1\" class=\"dataframe\">\n",
       "  <thead>\n",
       "    <tr style=\"text-align: right;\">\n",
       "      <th></th>\n",
       "      <th>Line ID</th>\n",
       "      <th>Character ID</th>\n",
       "      <th>Movie ID</th>\n",
       "      <th>Character Name</th>\n",
       "      <th>Text of Utterance</th>\n",
       "    </tr>\n",
       "  </thead>\n",
       "  <tbody>\n",
       "    <tr>\n",
       "      <th>0</th>\n",
       "      <td>L1045</td>\n",
       "      <td>u0</td>\n",
       "      <td>m0</td>\n",
       "      <td>BIANCA</td>\n",
       "      <td>They do not!\\n</td>\n",
       "    </tr>\n",
       "    <tr>\n",
       "      <th>1</th>\n",
       "      <td>L1044</td>\n",
       "      <td>u2</td>\n",
       "      <td>m0</td>\n",
       "      <td>CAMERON</td>\n",
       "      <td>They do to!\\n</td>\n",
       "    </tr>\n",
       "    <tr>\n",
       "      <th>2</th>\n",
       "      <td>L985</td>\n",
       "      <td>u0</td>\n",
       "      <td>m0</td>\n",
       "      <td>BIANCA</td>\n",
       "      <td>I hope so.\\n</td>\n",
       "    </tr>\n",
       "    <tr>\n",
       "      <th>3</th>\n",
       "      <td>L984</td>\n",
       "      <td>u2</td>\n",
       "      <td>m0</td>\n",
       "      <td>CAMERON</td>\n",
       "      <td>She okay?\\n</td>\n",
       "    </tr>\n",
       "    <tr>\n",
       "      <th>4</th>\n",
       "      <td>L925</td>\n",
       "      <td>u0</td>\n",
       "      <td>m0</td>\n",
       "      <td>BIANCA</td>\n",
       "      <td>Let's go.\\n</td>\n",
       "    </tr>\n",
       "  </tbody>\n",
       "</table>\n",
       "</div>"
      ],
      "text/plain": [
       "  Line ID Character ID Movie ID Character Name Text of Utterance\n",
       "0   L1045           u0       m0         BIANCA    They do not!\\n\n",
       "1   L1044           u2       m0        CAMERON     They do to!\\n\n",
       "2    L985           u0       m0         BIANCA      I hope so.\\n\n",
       "3    L984           u2       m0        CAMERON       She okay?\\n\n",
       "4    L925           u0       m0         BIANCA       Let's go.\\n"
      ]
     },
     "execution_count": 3,
     "metadata": {},
     "output_type": "execute_result"
    }
   ],
   "source": [
    "# Display the first 5 rows of the dataframe\n",
    "df.head()"
   ]
  },
  {
   "cell_type": "code",
   "execution_count": 4,
   "metadata": {},
   "outputs": [
    {
     "name": "stdout",
     "output_type": "stream",
     "text": [
      "Number of rows in the dataframe: 304713\n",
      "Number of unique character names: 5356\n",
      "Number of unique movies: 617\n",
      "Number of unique character IDs: 9035\n"
     ]
    }
   ],
   "source": [
    "# Number of rows in the dataframe\n",
    "print('Number of rows in the dataframe: {}'.format(df.shape[0]))\n",
    "# Number of unique character names\n",
    "print('Number of unique character names: {}'.format(df['Character Name'].nunique()))\n",
    "# Number of unique movies\n",
    "print('Number of unique movies: {}'.format(df['Movie ID'].nunique()))\n",
    "# Number of unique character IDs\n",
    "print('Number of unique character IDs: {}'.format(df['Character ID'].nunique()))\n"
   ]
  },
  {
   "cell_type": "code",
   "execution_count": 5,
   "metadata": {},
   "outputs": [],
   "source": [
    "# Load the pre-trained BERT tokenizer and model\n",
    "tokenizer = BertTokenizer.from_pretrained(\"bert-base-uncased\")\n",
    "\n",
    "# Define tokenization function\n",
    "def tokenize(batch):\n",
    "    input_ids_list = []\n",
    "    attention_mask_list = []\n",
    "    for text in batch: # For each text in the batch\n",
    "        # Tokenize the text and convert to input features\n",
    "        inputs = tokenizer(text, return_tensors=\"pt\", padding=True, truncation=True, max_length=512) # Return PyTorch tensors\n",
    "        input_ids_list.append(inputs[\"input_ids\"].squeeze(0)) # Token ids\n",
    "        attention_mask_list.append(inputs[\"attention_mask\"].squeeze(0)) # Mask to avoid performing attention on padding\n",
    "    return input_ids_list, attention_mask_list\n",
    "\n"
   ]
  },
  {
   "cell_type": "code",
   "execution_count": 6,
   "metadata": {},
   "outputs": [
    {
     "data": {
      "text/plain": [
       "0                                       They do not!\\n\n",
       "1                                        They do to!\\n\n",
       "2                                         I hope so.\\n\n",
       "3                                          She okay?\\n\n",
       "4                                          Let's go.\\n\n",
       "5                                                Wow\\n\n",
       "6     Okay -- you're gonna need to learn how to lie.\\n\n",
       "7                                                 No\\n\n",
       "8    I'm kidding.  You know how sometimes you just ...\n",
       "9                   Like my fear of wearing pastels?\\n\n",
       "Name: Text of Utterance, dtype: object"
      ]
     },
     "execution_count": 6,
     "metadata": {},
     "output_type": "execute_result"
    }
   ],
   "source": [
    "df['Text of Utterance'][:10]\n"
   ]
  },
  {
   "cell_type": "code",
   "execution_count": 7,
   "metadata": {},
   "outputs": [],
   "source": [
    "input_ids, attention_mask = tokenize(df['Text of Utterance'][:10])"
   ]
  },
  {
   "cell_type": "code",
   "execution_count": 1,
   "metadata": {},
   "outputs": [],
   "source": [
    "import openai\n",
    "\n",
    "# Set the API key\n",
    "openai.api_key = 'API key here'\n",
    "\n",
    "def get_assistant_reply(user_input):\n",
    "    # Create a conversation with the model using the user's question\n",
    "    response = openai.ChatCompletion.create(\n",
    "        model=\"gpt-3.5-turbo\",\n",
    "        messages=[\n",
    "            {\n",
    "                \"role\": \"system\",\n",
    "                \"content\": \"You are a helpful assistant.\"\n",
    "            },\n",
    "            {\n",
    "                \"role\": \"user\",\n",
    "                \"content\": user_input\n",
    "            }\n",
    "        ]\n",
    "    )\n",
    "\n",
    "    # Extract the assistant's reply from the response\n",
    "    return response['choices'][0]['message']['content']\n",
    "\n",
    "# Continuous interaction loop\n",
    "while True:\n",
    "    # Prompt the user for a question\n",
    "    user_question = input(\"\\nPlease ask a question (or type 'exit' to stop): \")\n",
    "\n",
    "    # Exit condition\n",
    "    if user_question.lower() == 'exit':\n",
    "        print(\"Goodbye!\")\n",
    "        break\n",
    "\n",
    "    assistant_reply = get_assistant_reply(user_question)\n",
    "    print(f\"Assistant: {assistant_reply}\")"
   ]
  },
  {
   "cell_type": "code",
   "execution_count": null,
   "metadata": {},
   "outputs": [],
   "source": []
  }
 ],
 "metadata": {
  "kernelspec": {
   "display_name": "base",
   "language": "python",
   "name": "python3"
  },
  "language_info": {
   "codemirror_mode": {
    "name": "ipython",
    "version": 3
   },
   "file_extension": ".py",
   "mimetype": "text/x-python",
   "name": "python",
   "nbconvert_exporter": "python",
   "pygments_lexer": "ipython3",
   "version": "3.9.16"
  }
 },
 "nbformat": 4,
 "nbformat_minor": 2
}
