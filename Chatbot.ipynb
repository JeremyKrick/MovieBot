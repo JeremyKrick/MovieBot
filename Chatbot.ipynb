{
 "cells": [
  {
   "cell_type": "code",
   "execution_count": 1,
   "metadata": {},
   "outputs": [],
   "source": [
    "import json\n",
    "\n",
    "def json_to_jsonl(json_file, jsonl_file):\n",
    "    # Read the JSON file\n",
    "    with open(json_file, 'r') as f:\n",
    "        data = json.load(f)\n",
    "\n",
    "    # Check if the top-level JSON object is a list\n",
    "    if not isinstance(data, list):\n",
    "        raise ValueError(f\"The top-level object in {json_file} is not a list.\")\n",
    "\n",
    "    # Write each item in the list as a separate line in the JSONL file\n",
    "    with open(jsonl_file, 'w') as f:\n",
    "        for item in data:\n",
    "            f.write(json.dumps(item) + '\\n')\n",
    "\n",
    "# Example usage:\n",
    "json_to_jsonl('fine-tuning.json', 'fine-tuning.jsonl')\n"
   ]
  },
  {
   "cell_type": "code",
   "execution_count": 2,
   "metadata": {},
   "outputs": [
    {
     "ename": "",
     "evalue": "",
     "output_type": "error",
     "traceback": [
      "\u001b[1;31mThe Kernel crashed while executing code in the the current cell or a previous cell. Please review the code in the cell(s) to identify a possible cause of the failure. Click <a href='https://aka.ms/vscodeJupyterKernelCrash'>here</a> for more info. View Jupyter <a href='command:jupyter.viewOutput'>log</a> for further details."
     ]
    }
   ],
   "source": [
    "import json\n",
    "\n",
    "# Load the current data\n",
    "with open(\"fine-tuning.jsonl\", \"r\") as file:\n",
    "    lines = file.readlines()\n",
    "    data = [json.loads(line) for line in lines]\n",
    "\n",
    "# Process the data\n",
    "formatted_data = []\n",
    "for i in range(0, len(data), 3):  # As each interaction consists of 3 messages (system, user, assistant)\n",
    "    formatted_data.append({\"messages\": [data[i], data[i+1], data[i+2]]})\n",
    "\n",
    "# Save the processed data in JSONL format\n",
    "with open(\"formatted_fine-tuning.jsonl\", \"w\") as file:\n",
    "    for item in formatted_data:\n",
    "        file.write(json.dumps(item) + \"\\n\")\n"
   ]
  },
  {
   "cell_type": "code",
   "execution_count": null,
   "metadata": {},
   "outputs": [],
   "source": []
  }
 ],
 "metadata": {
  "kernelspec": {
   "display_name": "base",
   "language": "python",
   "name": "python3"
  },
  "language_info": {
   "codemirror_mode": {
    "name": "ipython",
    "version": 3
   },
   "file_extension": ".py",
   "mimetype": "text/x-python",
   "name": "python",
   "nbconvert_exporter": "python",
   "pygments_lexer": "ipython3",
   "version": "3.9.16"
  }
 },
 "nbformat": 4,
 "nbformat_minor": 2
}
